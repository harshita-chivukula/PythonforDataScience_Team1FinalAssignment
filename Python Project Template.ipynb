{
 "cells": [
  {
   "cell_type": "markdown",
   "metadata": {},
   "source": [
    "# Dataset\n",
    "\n",
    "In this final project, you will analyze the performance of the 10 big fast-food companies in the stock market over the years. To do so, you will have to form groups of 5 people and give answers to all the questions provided below.\n",
    "\n",
    "Each dataset contains 10 CSV files corresponding to a different fast-food company’s stock:\n",
    "\n",
    "- **BRK-A**: Berkshire Hathaway Inc.\n",
    "- **DNUT**: Krispy Kreme, Inc.\n",
    "- **DPZ**: Domino’s Pizza, Inc.\n",
    "- **LKNCY**: Luckin Coffee Inc.\n",
    "- **MCD**: McDonald’s Corporation\n",
    "- **PZZA**: Papa John’s International, Inc.\n",
    "- **QSR**: Restaurant Brands International, Inc.\n",
    "- **SBUX**: Starbucks Corporation\n",
    "- **WEN**: The Wendy’s Corporation\n",
    "- **YUM**: Yum! Brands, Inc.\n",
    "\n",
    "## Columns\n",
    "\n",
    "The datasets contain the following columns:\n",
    "\n",
    "- **Date**: Trading date  \n",
    "- **Open**: Opening price  \n",
    "- **High**: Highest price during session  \n",
    "- **Low**: Lowest price during session  \n",
    "- **Close**: Closing price  \n",
    "- **Adj Close**: Closing price adjusted for dividends and stock splits  \n",
    "- **Volume**: Number of shares traded during the session\n"
   ]
  },
  {
   "cell_type": "markdown",
   "metadata": {},
   "source": [
    "# Exercises\n",
    "\n",
    "You will have to give answers to the following 10 exercises (1 point each):"
   ]
  },
  {
   "cell_type": "markdown",
   "metadata": {},
   "source": [
    "**Preprocessing steps**"
   ]
  },
  {
   "cell_type": "code",
   "execution_count": null,
   "metadata": {},
   "outputs": [],
   "source": [
    "# Impoprt all the libraries necesaires for the project\n",
    "import pandas as pd\n",
    "import matplotlib.pyplot as plt\n",
    "import seaborn as sns\n",
    "import os\n",
    "from datetime import datetime"
   ]
  },
  {
   "cell_type": "code",
   "execution_count": 2,
   "metadata": {},
   "outputs": [],
   "source": [
    "# Importing the 10 datasets for the exercises\n",
    "# Create a dictionary to store all of them\n",
    "all_datasets = {}\n",
    "databases_path = './Databases' # The path where the datasets are located \n",
    "\n",
    "# Here we use for loop to iterate over the folder where the datasets are, extract them and store them in a dictionary. \n",
    "for database in os.listdir(databases_path):\n",
    "    database_name = database.split('.')[0]\n",
    "    df = pd.read_csv(os.path.join(databases_path, database))\n",
    "    all_datasets[database_name] = df"
   ]
  },
  {
   "cell_type": "code",
   "execution_count": null,
   "metadata": {},
   "outputs": [],
   "source": []
  },
  {
   "cell_type": "markdown",
   "metadata": {},
   "source": [
    "1. **For each dataset**:\n",
    "   - Print the number of rows and columns.\n",
    "   - Display the column names and their data types."
   ]
  },
  {
   "cell_type": "code",
   "execution_count": null,
   "metadata": {},
   "outputs": [],
   "source": []
  },
  {
   "cell_type": "markdown",
   "metadata": {},
   "source": [
    "2. **Extract all rows where the date is in the year 2023**:\n",
    "   - Print the number of rows.\n",
    "   - Visualize the Close price trend for this period."
   ]
  },
  {
   "cell_type": "code",
   "execution_count": null,
   "metadata": {},
   "outputs": [],
   "source": []
  },
  {
   "cell_type": "markdown",
   "metadata": {},
   "source": [
    "3. **For each company**:\n",
    "   - Find the day with the highest Close price and display it alongside the price."
   ]
  },
  {
   "cell_type": "code",
   "execution_count": null,
   "metadata": {},
   "outputs": [],
   "source": []
  },
  {
   "cell_type": "markdown",
   "metadata": {},
   "source": [
    "4. **Group the data by month**:\n",
    "   - Calculate the average Close price for each company.\n",
    "   - Plot these monthly averages for 3 companies and compare them.\n",
    "   - Justify the chart selection."
   ]
  },
  {
   "cell_type": "code",
   "execution_count": null,
   "metadata": {},
   "outputs": [],
   "source": []
  },
  {
   "cell_type": "markdown",
   "metadata": {},
   "source": [
    "5. **For each company**:\n",
    "   - Compute the yearly average of the Close price.\n",
    "   - Plot a comparison of yearly averages for all companies on a chart.\n",
    "   - Justify your chart selection."
   ]
  },
  {
   "cell_type": "code",
   "execution_count": null,
   "metadata": {},
   "outputs": [],
   "source": []
  },
  {
   "cell_type": "markdown",
   "metadata": {},
   "source": [
    "6. **For each company**:\n",
    "   - Create a plot showing the range of prices for each month.\n",
    "   - Justify the chart selection."
   ]
  },
  {
   "cell_type": "code",
   "execution_count": null,
   "metadata": {},
   "outputs": [],
   "source": []
  },
  {
   "cell_type": "markdown",
   "metadata": {},
   "source": [
    "7. **Create a plot showing the relationship between trading volume and the Close price**:\n",
    "   - Select one company.\n",
    "   - Add insights about the pattern.\n",
    "   - Justify your chart selection."
   ]
  },
  {
   "cell_type": "code",
   "execution_count": null,
   "metadata": {},
   "outputs": [],
   "source": []
  },
  {
   "cell_type": "markdown",
   "metadata": {},
   "source": [
    "8. **For each company**:\n",
    "   - Identify the month with the highest total trading volume.\n",
    "   - Display the results in a summary table, showing the month and total volume."
   ]
  },
  {
   "cell_type": "code",
   "execution_count": null,
   "metadata": {},
   "outputs": [],
   "source": []
  },
  {
   "cell_type": "markdown",
   "metadata": {},
   "source": [
    "9. **Merge the datasets for all companies**:\n",
    "   - Create a single dataset, one for each year.\n",
    "   - Print the structure of the combined dataset, ensuring proper alignment and handling of missing values."
   ]
  },
  {
   "cell_type": "code",
   "execution_count": null,
   "metadata": {},
   "outputs": [],
   "source": []
  },
  {
   "cell_type": "markdown",
   "metadata": {},
   "source": [
    "10. **For each company**:\n",
    "    - Calculate the spread between the High and Low prices for each day.\n",
    "    - Compute the average spread for each company.\n",
    "    - Visualize the result in a chart and justify the chart selection.\n",
    "    - Interpret which companies exhibit the largest spreads and why this might happen."
   ]
  },
  {
   "cell_type": "code",
   "execution_count": null,
   "metadata": {},
   "outputs": [],
   "source": []
  }
 ],
 "metadata": {
  "kernelspec": {
   "display_name": "Env-for-Python_data_science",
   "language": "python",
   "name": "python3"
  },
  "language_info": {
   "codemirror_mode": {
    "name": "ipython",
    "version": 3
   },
   "file_extension": ".py",
   "mimetype": "text/x-python",
   "name": "python",
   "nbconvert_exporter": "python",
   "pygments_lexer": "ipython3",
   "version": "3.12.5"
  }
 },
 "nbformat": 4,
 "nbformat_minor": 2
}
